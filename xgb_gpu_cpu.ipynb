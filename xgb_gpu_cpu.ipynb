{
 "cells": [
  {
   "cell_type": "code",
   "execution_count": 1,
   "id": "8a4a71da",
   "metadata": {},
   "outputs": [],
   "source": [
    "import numpy as np\n",
    "from sklearn.model_selection import train_test_split\n",
    "from sklearn.preprocessing import StandardScaler\n",
    "from sklearn.metrics import mean_absolute_error, mean_squared_error\n",
    "import time\n",
    "import xgboost as xgb\n",
    "from xgboost import XGBRegressor\n",
    "\n",
    "#  Random generated dataset\n",
    "np.random.seed(42)\n",
    "X = np.random.rand(1000000, 100)\n",
    "y = np.random.rand(1000000)\n",
    "\n",
    "# Split the dataset into training and test sets\n",
    "X_train, X_test, y_train, y_test = train_test_split(X, y, test_size=0.2, random_state=42)\n",
    "\n",
    "# Preprocessing the data: StandardScaler\n",
    "scaler = StandardScaler()\n",
    "X_train_scaled = scaler.fit_transform(X_train)\n",
    "X_test_scaled = scaler.transform(X_test)"
   ]
  },
  {
   "cell_type": "code",
   "execution_count": 2,
   "id": "b4b24342",
   "metadata": {},
   "outputs": [
    {
     "name": "stdout",
     "output_type": "stream",
     "text": [
      "Training Time       : 257.7513 seconds\n",
      "Prediction Time     : 5.9108 seconds\n",
      "Train MAE: 0.013324174326933148, Test MAE: 0.26988500367555446\n"
     ]
    }
   ],
   "source": [
    "# GPU version hyperparameters\n",
    "params_gpu = {\n",
    "    'objective': 'binary:logistic',\n",
    "    'tree_method': 'hist',\n",
    "    'device': 'cuda',\n",
    "    'eval_metric': 'logloss',\n",
    "    'verbosity': 1,\n",
    "    'random_state': 42\n",
    "}\n",
    "\n",
    "\n",
    "dtrain_gpu = xgb.DMatrix(X_train_scaled, label=y_train)\n",
    "dtest_gpu = xgb.DMatrix(X_test_scaled, label=y_test)\n",
    "\n",
    "# Training time on GPU\n",
    "start_time = time.time()\n",
    "model_gpu = xgb.train(params_gpu, dtrain_gpu, num_boost_round=20000)\n",
    "gpu_train_time = time.time() - start_time\n",
    "\n",
    "# Prediction time on GPU\n",
    "start_time = time.time()\n",
    "train_pred_gpu = model_gpu.predict(dtrain_gpu)\n",
    "test_pred_gpu = model_gpu.predict(dtest_gpu)\n",
    "gpu_pred_time = time.time() - start_time\n",
    "\n",
    "# Evaluation\n",
    "train_mae_gpu = mean_absolute_error(y_train, train_pred_gpu)\n",
    "test_mae_gpu = mean_absolute_error(y_test, test_pred_gpu)\n",
    "\n",
    "\n",
    "print(f\"{'Training Time':<20}: {gpu_train_time:.4f} seconds\")\n",
    "print(f\"{'Prediction Time':<20}: {gpu_pred_time:.4f} seconds\")\n",
    "print(f\"Train MAE: {train_mae_gpu}, Test MAE: {test_mae_gpu}\")\n"
   ]
  },
  {
   "cell_type": "code",
   "execution_count": null,
   "id": "3e08ffcc",
   "metadata": {},
   "outputs": [
    {
     "name": "stdout",
     "output_type": "stream",
     "text": [
      "Training Time       : 965.4000 seconds\n",
      "Prediction Time     : 22.9494 seconds\n",
      "Train MAE: 0.007832585042845792, Test MAE: 0.2671084348938496\n"
     ]
    }
   ],
   "source": [
    "model_cpu = XGBRegressor(n_estimators=20000)\n",
    "\n",
    "# Training time on CPU\n",
    "start_time = time.time()\n",
    "model_cpu.fit(X_train_scaled, y_train)\n",
    "cpu_train_time = time.time() - start_time\n",
    "\n",
    "# Prediction time on CPU\n",
    "start_time = time.time()\n",
    "train_pred_cpu = model_cpu.predict(X_train_scaled)\n",
    "test_pred_cpu = model_cpu.predict(X_test_scaled)\n",
    "cpu_pred_time = time.time() - start_time\n",
    "\n",
    "# Evaluation\n",
    "train_mae_cpu = mean_absolute_error(y_train, train_pred_cpu)\n",
    "test_mae_cpu = mean_absolute_error(y_test, test_pred_cpu)\n",
    "\n",
    "\n",
    "print(f\"{'Training Time':<20}: {cpu_train_time:.4f} seconds\")\n",
    "print(f\"{'Prediction Time':<20}: {cpu_pred_time:.4f} seconds\")\n",
    "print(f\"Train MAE: {train_mae_cpu}, Test MAE: {test_mae_cpu}\")\n"
   ]
  }
 ],
 "metadata": {
  "kernelspec": {
   "display_name": "Python (mlflow-env)",
   "language": "python",
   "name": "mlflow-env"
  },
  "language_info": {
   "codemirror_mode": {
    "name": "ipython",
    "version": 3
   },
   "file_extension": ".py",
   "mimetype": "text/x-python",
   "name": "python",
   "nbconvert_exporter": "python",
   "pygments_lexer": "ipython3",
   "version": "3.12.3"
  }
 },
 "nbformat": 4,
 "nbformat_minor": 5
}
