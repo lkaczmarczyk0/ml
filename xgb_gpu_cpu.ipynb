{
 "cells": [
  {
   "cell_type": "code",
   "execution_count": 13,
   "id": "46fa1cce",
   "metadata": {},
   "outputs": [],
   "source": [
    "import time\n",
    "import numpy as np\n",
    "from sklearn.datasets import load_breast_cancer\n",
    "from sklearn.model_selection import train_test_split\n",
    "from sklearn.metrics import accuracy_score, f1_score,  roc_auc_score\n",
    "import xgboost as xgb\n",
    "\n"
   ]
  },
  {
   "cell_type": "code",
   "execution_count": 17,
   "id": "6fe27dd2",
   "metadata": {},
   "outputs": [
    {
     "name": "stderr",
     "output_type": "stream",
     "text": [
      "/home/lkacz/projects/mlflow/env/lib/python3.12/site-packages/xgboost/training.py:183: UserWarning: [20:44:19] WARNING: /workspace/src/learner.cc:738: \n",
      "Parameters: { \"n_estimators\" } are not used.\n",
      "\n",
      "  bst.update(dtrain, iteration=i, fobj=obj)\n",
      "/home/lkacz/projects/mlflow/env/lib/python3.12/site-packages/xgboost/training.py:183: UserWarning: [20:44:43] WARNING: /workspace/src/learner.cc:738: \n",
      "Parameters: { \"n_estimators\" } are not used.\n",
      "\n",
      "  bst.update(dtrain, iteration=i, fobj=obj)\n"
     ]
    },
    {
     "name": "stdout",
     "output_type": "stream",
     "text": [
      "🔧 CPU: time=23.026s | acc=0.9485 | f1=0.9345 | roc_auc=0.9856\n",
      "🚀 GPU: time=20.999s | acc=0.9485 | f1=0.9345 | roc_auc=0.9856\n"
     ]
    }
   ],
   "source": [
    "from sklearn.datasets import make_classification\n",
    "\n",
    "\n",
    "X, y = make_classification(\n",
    "    n_samples=5000000,           # liczba próbek\n",
    "    n_features=50,            # liczba cech (dopasowana do breast cancer)\n",
    "    n_informative=15,         # liczba cech informacyjnych\n",
    "    n_redundant=5,            # liczba cech redundantnych\n",
    "    n_repeated=0,             # liczba cech powtórzonych\n",
    "    n_classes=2,              # klasy: 0 i 1\n",
    "    weights=[0.6, 0.4],       # proporcje klas\n",
    "    flip_y=0.01,              # szum etykiet\n",
    "    class_sep=1.0,            # separacja klas\n",
    "    random_state=42           # replikowalność\n",
    ")\n",
    "\n",
    "\n",
    "# 🔀 Podział na zbiór treningowy i testowy\n",
    "X_train, X_test, y_train, y_test = train_test_split(X, y, test_size=0.2, random_state=42)\n",
    "\n",
    "dtrain = xgb.DMatrix(data=X_train, label=y_train)\n",
    "dtest = xgb.DMatrix(data=X_test, label=y_test)\n",
    "\n",
    "# ⚙️ Model CPU\n",
    "params_cpu ={\n",
    "  \"colsample_bytree\": 0.7,\n",
    "  'booster':'gbtree',\n",
    "  \"learning_rate\": 0.1,\n",
    "  \"n_estimators\":1000,\n",
    "  \"max_depth\": 5,\n",
    "  'objective': 'binary:logistic',\n",
    "  \"subsample\": 0.8,\n",
    "  \"tree_method\": \"hist\"\n",
    "}\n",
    "\n",
    "start_cpu = time.time()\n",
    "model_cpu = xgb.train(params=params_cpu, dtrain=dtrain, num_boost_round=50)\n",
    "cpu_time = time.time() - start_cpu\n",
    "\n",
    "# 🚀 Model GPU\n",
    "params_gpu ={\n",
    "  \"colsample_bytree\": 0.7,\n",
    "  'booster':'gbtree',\n",
    "  \"learning_rate\": 0.1,\n",
    "  \"n_estimators\":1000,\n",
    "  \"max_depth\": 5,\n",
    "  'objective': 'binary:logistic',\n",
    "  \"subsample\": 0.8,\n",
    "  \"tree_method\": \"hist\"\n",
    "}\n",
    "start_gpu = time.time()\n",
    "model_gpu = xgb.train(params=params_gpu, dtrain=dtrain, num_boost_round=50)\n",
    "gpu_time = time.time() - start_gpu\n",
    "\n",
    "\n",
    "# 🔍 Predykcja i ewaluacja\n",
    "y_pred_cpu_proba = model_cpu.predict(dtest)\n",
    "y_pred_gpu_proba = model_gpu.predict(dtest)\n",
    "\n",
    "# Konwersja na klasy\n",
    "y_pred_cpu = (y_pred_cpu_proba > 0.5).astype(int)\n",
    "y_pred_gpu = (y_pred_gpu_proba > 0.5).astype(int)\n",
    "\n",
    "# Metryki\n",
    "acc_cpu = accuracy_score(y_test, y_pred_cpu)\n",
    "acc_gpu = accuracy_score(y_test, y_pred_gpu)\n",
    "\n",
    "f1_cpu = f1_score(y_test, y_pred_cpu)\n",
    "f1_gpu = f1_score(y_test, y_pred_gpu)\n",
    "\n",
    "roc_cpu = roc_auc_score(y_test, y_pred_cpu_proba)\n",
    "roc_gpu = roc_auc_score(y_test, y_pred_gpu_proba)\n",
    "\n",
    "\n",
    "# 📊 Wyniki\n",
    "print(f\"🔧 CPU: time={cpu_time:.3f}s | acc={acc_cpu:.4f} | f1={f1_cpu:.4f} | roc_auc={roc_cpu:.4f}\")\n",
    "print(f\"🚀 GPU: time={gpu_time:.3f}s | acc={acc_gpu:.4f} | f1={f1_gpu:.4f} | roc_auc={roc_gpu:.4f}\")\n"
   ]
  },
  {
   "cell_type": "code",
   "execution_count": 9,
   "id": "3ec788a0",
   "metadata": {},
   "outputs": [
    {
     "name": "stdout",
     "output_type": "stream",
     "text": [
      "BUILTIN_PREFETCH_PRESENT: False\n",
      "CUDA_VERSION: [12, 5]\n",
      "DEBUG: False\n",
      "MM_PREFETCH_PRESENT: True\n",
      "THRUST_VERSION: [2, 6, 1]\n",
      "USE_CUDA: True\n",
      "USE_DLOPEN_NCCL: False\n",
      "USE_FEDERATED: False\n",
      "USE_NCCL: False\n",
      "USE_OPENMP: True\n",
      "USE_RMM: False\n",
      "libxgboost: c:\\Users\\lkacz\\myenv\\.venv\\Lib\\site-packages\\xgboost\\lib\\xgboost.dll\n"
     ]
    }
   ],
   "source": [
    "import xgboost\n",
    "\n",
    "build_info = xgboost.build_info()\n",
    "for name in sorted(build_info.keys()):\n",
    "    print(f'{name}: {build_info[name]}')"
   ]
  },
  {
   "cell_type": "code",
   "execution_count": 10,
   "id": "8a4a71da",
   "metadata": {},
   "outputs": [],
   "source": [
    "import numpy as np\n",
    "import pandas as pd\n",
    "from sklearn.model_selection import train_test_split\n",
    "from sklearn.preprocessing import StandardScaler\n",
    "from sklearn.metrics import mean_absolute_error, mean_squared_error\n",
    "import time\n",
    "import xgboost as xgb\n",
    "\n",
    "# Generate an even larger dataset\n",
    "np.random.seed(42)\n",
    "X = np.random.rand(1000000, 100)\n",
    "y = np.random.rand(1000000)\n",
    "\n",
    "# Split the dataset into training and test sets\n",
    "X_train, X_test, y_train, y_test = train_test_split(X, y, test_size=0.2, random_state=42)\n",
    "\n",
    "# Preprocess the data: standard scaling\n",
    "scaler = StandardScaler()\n",
    "X_train_scaled = scaler.fit_transform(X_train)\n",
    "X_test_scaled = scaler.transform(X_test)"
   ]
  },
  {
   "cell_type": "code",
   "execution_count": 13,
   "id": "b4b24342",
   "metadata": {},
   "outputs": [
    {
     "name": "stdout",
     "output_type": "stream",
     "text": [
      "Training Time       : 149.3458 seconds\n",
      "Prediction Time     : 8.9648 seconds\n",
      "Train MAE: 0.013324174326933147, Test MAE: 0.2698850036755545\n"
     ]
    }
   ],
   "source": [
    "# GPU version with xgb.train using tree_method='hist' and device='cuda'\n",
    "params_gpu = {\n",
    "    'objective': 'binary:logistic',\n",
    "    'tree_method': 'hist',\n",
    "    'device': 'cuda',\n",
    "    'eval_metric': 'logloss',\n",
    "    'verbosity': 1,\n",
    "    'random_state': 42\n",
    "}\n",
    "\n",
    "\n",
    "dtrain_gpu = xgb.DMatrix(X_train_scaled, label=y_train)\n",
    "dtest_gpu = xgb.DMatrix(X_test_scaled, label=y_test)\n",
    "\n",
    "# Training time on GPU\n",
    "start_time = time.time()\n",
    "model_gpu = xgb.train(params_gpu, dtrain_gpu, num_boost_round=20000)\n",
    "gpu_train_time = time.time() - start_time\n",
    "\n",
    "# Prediction time on GPU\n",
    "start_time = time.time()\n",
    "train_pred_gpu = model_gpu.predict(dtrain_gpu)\n",
    "test_pred_gpu = model_gpu.predict(dtest_gpu)\n",
    "gpu_pred_time = time.time() - start_time\n",
    "\n",
    "# Evaluation\n",
    "train_mae_gpu = mean_absolute_error(y_train, train_pred_gpu)\n",
    "test_mae_gpu = mean_absolute_error(y_test, test_pred_gpu)\n",
    "\n",
    "\n",
    "print(f\"{'Training Time':<20}: {gpu_train_time:.4f} seconds\")\n",
    "print(f\"{'Prediction Time':<20}: {gpu_pred_time:.4f} seconds\")\n",
    "print(f\"Train MAE: {train_mae_gpu}, Test MAE: {test_mae_gpu}\")\n"
   ]
  },
  {
   "cell_type": "code",
   "execution_count": 14,
   "id": "3e08ffcc",
   "metadata": {},
   "outputs": [
    {
     "name": "stdout",
     "output_type": "stream",
     "text": [
      "Training Time       : 965.4000 seconds\n",
      "Prediction Time     : 22.9494 seconds\n",
      "Train MAE: 0.007832585042845792, Test MAE: 0.2671084348938496\n"
     ]
    }
   ],
   "source": [
    "from xgboost import XGBRegressor\n",
    "model_cpu = XGBRegressor(n_estimators=20000)\n",
    "\n",
    "# Training time on CPU\n",
    "start_time = time.time()\n",
    "model_cpu.fit(X_train_scaled, y_train)\n",
    "cpu_train_time = time.time() - start_time\n",
    "\n",
    "# Prediction time on CPU\n",
    "start_time = time.time()\n",
    "train_pred_cpu = model_cpu.predict(X_train_scaled)\n",
    "test_pred_cpu = model_cpu.predict(X_test_scaled)\n",
    "cpu_pred_time = time.time() - start_time\n",
    "\n",
    "# Evaluation\n",
    "train_mae_cpu = mean_absolute_error(y_train, train_pred_cpu)\n",
    "test_mae_cpu = mean_absolute_error(y_test, test_pred_cpu)\n",
    "\n",
    "\n",
    "print(f\"{'Training Time':<20}: {cpu_train_time:.4f} seconds\")\n",
    "print(f\"{'Prediction Time':<20}: {cpu_pred_time:.4f} seconds\")\n",
    "print(f\"Train MAE: {train_mae_cpu}, Test MAE: {test_mae_cpu}\")\n"
   ]
  }
 ],
 "metadata": {
  "kernelspec": {
   "display_name": "Python (mlflow-env)",
   "language": "python",
   "name": "mlflow-env"
  },
  "language_info": {
   "codemirror_mode": {
    "name": "ipython",
    "version": 3
   },
   "file_extension": ".py",
   "mimetype": "text/x-python",
   "name": "python",
   "nbconvert_exporter": "python",
   "pygments_lexer": "ipython3",
   "version": "3.12.3"
  }
 },
 "nbformat": 4,
 "nbformat_minor": 5
}
